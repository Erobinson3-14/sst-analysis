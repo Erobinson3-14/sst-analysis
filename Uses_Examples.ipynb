{
 "cells": [
  {
   "cell_type": "code",
   "execution_count": null,
   "id": "e18d850c-49d2-48f1-9998-1afc310320e8",
   "metadata": {},
   "outputs": [],
   "source": [
    "#using cobe_functions use case 1\n",
    "import cobe_functions\n",
    "sst = cobe_functions.read_latest_sst('sst.mon.mean.nc') #sst.mon.mean.nc is the data here\n",
    "plt.imshow(sst)\n",
    "\n",
    "#using cobe_functions use case 2\n",
    "import matplotlib.pyplot as plt\n",
    "from cobe_functions import read_latest_sst, read_sst_timeseries #the two functions from cobe_functions needed\n",
    "\n",
    "    #pull data\n",
    "filename = \"sst.mon.mean.nc\"\n",
    "\n",
    "    #get timeseries at a location\n",
    "lat, lon = 100.0, -40.0  #point of interest\n",
    "timeseries = read_sst_timeseries(filename, lat, lon)\n",
    "\n",
    "    #filter data\n",
    "my_timeseries = timeseries[~np.isnan(timeseries)]\n",
    "\n",
    "    #plot\n",
    "plt.plot(my_timeseries)\n",
    "\n",
    "#using cobe_functions use case 3 (I never got it working right)\n",
    "import matplotlib.pyplot as plt\n",
    "from cobe_functions import read_sst_timeseries_with_time\n",
    "    #pull data\n",
    "filename = \"sst.mon.mean.nc\"\n",
    "\n",
    "lat, lon = 100.0, -40.0 #point of interest\n",
    "\n",
    "datetime_vec, my_timeseries = read_sst_timeseries_with_time(\"sst.mon.mean.nc\", 100.0, -40.0)\n",
    "\n",
    "plt.figure(figsize=(10,5))"
   ]
  }
 ],
 "metadata": {
  "kernelspec": {
   "display_name": "Python [conda env:xarray_env]",
   "language": "python",
   "name": "conda-env-xarray_env-py"
  },
  "language_info": {
   "codemirror_mode": {
    "name": "ipython",
    "version": 3
   },
   "file_extension": ".py",
   "mimetype": "text/x-python",
   "name": "python",
   "nbconvert_exporter": "python",
   "pygments_lexer": "ipython3",
   "version": "3.13.7"
  }
 },
 "nbformat": 4,
 "nbformat_minor": 5
}
